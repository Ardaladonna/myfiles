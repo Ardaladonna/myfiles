{
  "nbformat": 4,
  "nbformat_minor": 0,
  "metadata": {
    "colab": {
      "name": "GUI_for_Google_Colab_.ipynb",
      "version": "0.3.2",
      "provenance": [],
      "collapsed_sections": []
    },
    "kernelspec": {
      "name": "python3",
      "display_name": "Python 3"
    },
    "accelerator": "GPU"
  },
  "cells": [
    {
      "cell_type": "markdown",
      "metadata": {
        "id": "ut7MvJUUVnyY",
        "colab_type": "text"
      },
      "source": [
        "\n",
        "\n",
        "\n",
        "Step1.Go to http://ngrok.io link sign up with google (no need to setup anything) & then copy your auth token from https://dashboard.ngrok.com/auth\n",
        "\n",
        "Step2. Paste the auth token to the Ngrok_Token box , select your own Root Password\n",
        "\n",
        "Step3. Execute Shell (approximately 3 minutes to be installed)\n",
        "\n"
      ]
    },
    {
      "cell_type": "code",
      "metadata": {
        "id": "KroT7p92MK2F",
        "colab_type": "code",
        "cellView": "form",
        "colab": {}
      },
      "source": [
        "#@title ⬅️ Run This Cell for VNC\n",
        "Ngrok_Token = \"\" #@param {type:\"string\"}\n",
        "Root_Password = \"Alexandros\" #@param {type:\"string\"}\n",
        "import random, string, urllib.request, json, getpass, os, time, IPython, uuid\n",
        "import ipywidgets as widgets\n",
        "from IPython.display import HTML, clear_output\n",
        "\n",
        "password = Root_Password\n",
        "loadingBtn = widgets.Button(description = \"Installing\",\n",
        "                          disabled = True,\n",
        "                          button_style = 'warning', # 'success', 'info', 'warning', 'danger' or '' \n",
        "                          tooltip = \"Installing\",\n",
        "                          icon = 'check')\n",
        "display(loadingBtn)\n",
        "\n",
        "# The \"Goodies for Xfce\" project\n",
        "if not os.path.exists(\"/usr/bin/xfce4-session\"):\n",
        "  get_ipython().system_raw(\"rm -rf /content/sample_data/ && sudo apt update && sudo apt install xfce4 xfce4-goodies\")\n",
        "# Install VNC Server  \n",
        "if not os.path.exists(\"/usr/bin/tightvncserver\"):\n",
        "  get_ipython().system_raw(\"sudo apt install tightvncserver\")\n",
        "# Install Firefox\n",
        "if not os.path.exists(\"/usr/bin/firefox\"):\n",
        "  get_ipython().system_raw(\"sudo apt install firefox\")\n",
        "# Install Qbtittorrent\n",
        "if not os.path.exists(\"/usr/bin/qbittorrent\"):\n",
        "  get_ipython().system_raw(\"sudo apt install qbittorrent\")\n",
        "# Install Python\n",
        "if not os.path.exists(\"/usr/bin/python3.7\"):\n",
        "  get_ipython().system_raw(\"sudo apt install python3.7\")\n",
        "# Install Ngrok\n",
        "if not os.path.exists(\"/root/.Ngrok\"):\n",
        "  ! wget -q -c -nc https://bin.equinox.io/c/4VmDzA7iaHb/ngrok-stable-linux-amd64.zip -P /root/.Ngrok\n",
        "  ! unzip -qq -n /root/.Ngrok/ngrok-stable-linux-amd64.zip -d /root/.Ngrok\n",
        "\n",
        "! apt-get install -qq -o=Dpkg::Use-Pty=0 openssh-server pwgen > /dev/null\n",
        "\n",
        "! echo root:$password | chpasswd\n",
        "! mkdir -p /var/run/sshd\n",
        "! echo \"PermitRootLogin yes\" >> /etc/ssh/sshd_config\n",
        "! echo \"PasswordAuthentication yes\" >> /etc/ssh/sshd_config\n",
        "! echo \"LD_LIBRARY_PATH=/usr/lib64-nvidia\" >> /root/.bashrc\n",
        "! echo \"export LD_LIBRARY_PATH\" >> /root/.bashrc\n",
        "with open('xstartup','w') as p:\n",
        "  p.write('''\n",
        "\n",
        "#!/bin/sh\n",
        "\n",
        "xrdb $HOME/.Xresources\n",
        "xsetroot -solid grey\n",
        "#x-terminal-emulator -geometry 80x24+10+10 -ls -title \"$VNCDESKTOP Desktop\" &\n",
        "#x-window-manager &\n",
        "# Fix to make GNOME work\n",
        "/etc/X11/Xsession\n",
        "export XKL_XMODMAP_DISABLE=1\n",
        "exec /usr/bin/startxfce4 &\n",
        "\n",
        "''')\n",
        "! mkdir -p ~/.vnc\n",
        "! mv xstartup ~/.vnc/xstartup\n",
        "! sudo chmod +x ~/.vnc/xstartup\n",
        "! wget -q -c https://github.com/Ardaladonna/myfiles/raw/master/JDownloader.jar\n",
        "! wget -q -c https://github.com/tonikelope/megabasterd/releases/download/v6.24/MegaBasterd_6.24.jar\n",
        "! mv /content/*.jar ~/\n",
        "! sudo chmod +x ~/*.jar\n",
        "! mkdir -p ~/JDownloader2\n",
        "! mv ~/JDownloader.jar ~/JDownloader2/JDownloader.jar\n",
        "! mkdir -p /content/JDownloader\n",
        "! mkdir -p /content/Megabasterd\n",
        "! mkdir -p /content/QBittorrent\n",
        "\n",
        "get_ipython().system_raw('/usr/sbin/sshd -D &')\n",
        "authtoken = Ngrok_Token\n",
        "get_ipython().system_raw('/root/.Ngrok/ngrok authtoken $authtoken && /root/.Ngrok/ngrok tcp 22 &')\n",
        "time.sleep(5)\n",
        "try:\n",
        "  with urllib.request.urlopen('http://localhost:4040/api/tunnels') as response:\n",
        "    data = json.loads(response.read().decode())\n",
        "    (host, port) = data['tunnels'][0]['public_url'][6:].split(':')\n",
        "    clear_output()\n",
        "    print(f'SSH command: ssh -L 5901:127.0.0.1:5901 -p{port} root@{host}')\n",
        "\n",
        "    print(f'Root password: {password}')\n",
        "except:\n",
        "  display(HTML(\"<center><h2 style=\\\"font-family:Trebuchet MS;color:#ce2121;\\\">Error, Rerun the Cell.</h2><br></center>\"))"
      ],
      "execution_count": 0,
      "outputs": []
    },
    {
      "cell_type": "markdown",
      "metadata": {
        "id": "XsvAJtZJuiFB",
        "colab_type": "text"
      },
      "source": [
        "CONNECT TO VNC SERVER\n",
        "================================================================================\n",
        "OS: Windows xp/7/8/10 \n",
        "\n",
        "Download and install [Putty](https://www.chiark.greenend.org.uk/~sgtatham/putty/latest.html)\n",
        "\n",
        "CONFIGURATION OF PUTTY\n",
        "================================================================================\n",
        "![alt text](https://serving.photos.photobox.com/37396507f53bff07540957540b1b51beb46a375906ff1039c73095c4b2cc2ecc90393b85.jpg)\n",
        "\n",
        "1.The port is the one that appears in your output Port:16387 in my case\n",
        "ssh -L 5901:127.0.0.1:5901** -p16387** **root@0.tcp.ngrok.io**\n",
        "2.Configure the SSH/Tunnels : In 'destination' type 'localhost:5901', which means that local port 5901 (\"L\"5901) gets forwarded to localhost on the ssh server, port 5901.\n",
        "\n",
        "![alt text](https://serving.photos.photobox.com/78703878e3ee784ba1c0b65b540264630b33c64a23110fa3c9304ca5c13f22dcf440c3f1.jpg)\n",
        "\n",
        "3.Next on the first prompt press Yes and start the Ubuntu. The command screen will request the specified password and once done you are good to go. \n",
        "\n",
        "**VNC server in Putty**\n",
        "================================================================================\n",
        "\n",
        "In Putty type vncserver and on view-only password (y/n) n and enter\n",
        "\n",
        "Do not close Putty , download [RealVNCViewer](https://www.realvnc.com/en/connect/download/viewer/) install and open \n",
        "Type Localhost:5901 & enter once again your password\n",
        "![alt text](https://i.ibb.co/PZkGnKG/vnc-server.jpg)\n",
        "Click OK and Select Default Settings \n",
        "![alt text](https://i.ibb.co/DKRjMR6/Colab.jpg)\n",
        "\n",
        "================================================================================\n",
        "\n",
        "Edit the colab code to your preferences: \n",
        "Installing new packages to your VM is pretty straight forward,for example :\n",
        "\n",
        "1.To Install Python with the sudo command\n",
        "\n",
        "```\n",
        "#\n",
        "if not os.path.exists(\"/usr/bin/python3.7\"):\n",
        "  get_ipython().system_raw(\"sudo apt install python3.7\")\n",
        "```\n",
        "\n",
        "2.To Install Jdownloader with wget command\n",
        "\n",
        "Use your own space and add as many files as you want \n",
        "```\n",
        "wget -q -c https://github.com/Ardaladonna/myfiles/blob/master/JDownloader.jar\n",
        "```\n",
        "3.Install them through the GUI\n",
        "==============================================================================\n",
        "\n"
      ]
    },
    {
      "cell_type": "code",
      "metadata": {
        "id": "OuQDJyBsHvAV",
        "colab_type": "code",
        "colab": {}
      },
      "source": [
        "# Install the PyDrive wrapper & import libraries.\n",
        "# This only needs to be done once per notebook.\n",
        "!pip install -U -q PyDrive\n",
        "from pydrive.auth import GoogleAuth\n",
        "from pydrive.drive import GoogleDrive\n",
        "from google.colab import auth\n",
        "from oauth2client.client import GoogleCredentials\n",
        "\n",
        "# Authenticate and create the PyDrive client.\n",
        "# This only needs to be done once per notebook.\n",
        "auth.authenticate_user()\n",
        "gauth = GoogleAuth()\n",
        "gauth.credentials = GoogleCredentials.get_application_default()\n",
        "drive = GoogleDrive(gauth)\n",
        "\n",
        "# List .txt files in the root.\n",
        "#\n",
        "# Search query reference:\n",
        "# https://developers.google.com/drive/v2/web/search-parameters\n",
        "listed = drive.ListFile({'q': \"title contains '.txt' and 'root' in parents\"}).GetList()\n",
        "for file in listed:\n",
        "  print('title {}, id {}'.format(file['title'], file['id']))"
      ],
      "execution_count": 0,
      "outputs": []
    },
    {
      "cell_type": "markdown",
      "metadata": {
        "id": "WiPrcyjyIICD",
        "colab_type": "text"
      },
      "source": [
        "Cloud Commander is a GUI for the filemanager , transfer content from VM to your Drive"
      ]
    },
    {
      "cell_type": "markdown",
      "metadata": {
        "id": "w3aIHyZlH76Q",
        "colab_type": "text"
      },
      "source": [
        "Use your Google Drive Space and transfer the content from the VM . First you have to mount the Google Drive "
      ]
    },
    {
      "cell_type": "code",
      "metadata": {
        "id": "J_elk_rKH3z0",
        "colab_type": "code",
        "colab": {}
      },
      "source": [
        "\n",
        "from google.colab import drive\n",
        "drive.mount('/gdrive')"
      ],
      "execution_count": 0,
      "outputs": []
    },
    {
      "cell_type": "code",
      "metadata": {
        "id": "ZD8iDb1ylELh",
        "colab_type": "code",
        "cellView": "form",
        "outputId": "b47402b8-b96d-4da3-8880-3ad573b4cc06",
        "colab": {
          "base_uri": "https://localhost:8080/",
          "height": 138
        }
      },
      "source": [
        "#@markdown <h3>⬅️ Install Cloud Commander (file manager)</h3>\n",
        "#@markdown <br><center><img src='https://minormole.github.io/RcloneLab/img/title_cloud_commander.png' height=\"60\" alt=\"netdata\"/></center>\n",
        "\n",
        "import os, psutil, IPython, uuid, time\n",
        "import ipywidgets as widgets\n",
        "\n",
        "from IPython.display import HTML, clear_output\n",
        "from google.colab import output\n",
        "\n",
        "class MakeButton(object):\n",
        "  def __init__(self, title, callback):\n",
        "    self._title = title\n",
        "    self._callback = callback\n",
        "  def _repr_html_(self):\n",
        "    callback_id = 'button-' + str(uuid.uuid4())\n",
        "    output.register_callback(callback_id, self._callback)\n",
        "    template = \"\"\"<button class=\"p-Widget jupyter-widgets jupyter-button widget-button mod-info\" id=\"{callback_id}\">{title}</button>\n",
        "        <script>\n",
        "          document.querySelector(\"#{callback_id}\").onclick = (e) => {{\n",
        "            google.colab.kernel.invokeFunction('{callback_id}', [], {{}})\n",
        "            e.preventDefault();\n",
        "          }};\n",
        "        </script>\"\"\"\n",
        "    html = template.format(title=self._title, callback_id=callback_id)\n",
        "    return html\n",
        "  \n",
        "def MakeLabel(description, button_style):\n",
        "  return widgets.Button(description=description, disabled=True, button_style=button_style)\n",
        "\n",
        "def RandomGenerator():\n",
        "  return time.strftime(\"%S\") + str(time.time()).split(\".\")[-1]\n",
        "\n",
        "def CheckProcess(process, command):\n",
        "  for pid in psutil.pids():\n",
        "    try:\n",
        "      p = psutil.Process(pid)\n",
        "      if process in p.name():\n",
        "        for arg in p.cmdline():\n",
        "          if command in str(arg):  \n",
        "            return True\n",
        "          else:\n",
        "            pass\n",
        "      else:\n",
        "        pass\n",
        "    except:\n",
        "      continue\n",
        "  \n",
        "def AutoSSH(name,port):\n",
        "  get_ipython().system_raw(\"autossh -l \" + name + \" -M 0 -fNT -o 'StrictHostKeyChecking=no' -o 'ServerAliveInterval 300' -o 'ServerAliveCountMax 30' -R 80:localhost:\" + port + \" ssh.localhost.run &\")\n",
        "  get_ipython().system_raw(\"autossh -M 0 -fNT -o 'StrictHostKeyChecking=no' -o 'ServerAliveInterval 300' -o 'ServerAliveCountMax 30' -R \" + name + \":80:localhost:\" + port + \" serveo.net &\")\n",
        "\n",
        "def Start_ServerFM():\n",
        "  if CheckProcess(\"cloudcmd\", \"\") != True:\n",
        "    get_ipython().system_raw(\"cloudcmd --online --no-auth --show-config --show-file-name --editor 'deepword' --packer 'tar' --port 7007 --progress --no-confirm-copy --confirm-move --name 'RcloneLab File Manager' --keys-panel --no-contact --console --sync-console-path --no-terminal --no-vim --columns 'name-size-date' --no-log &\")\n",
        "  if CheckProcess(\"autossh\", \"fm\" + Random_NumberFM) != True:\n",
        "    AutoSSH(\"fm\" + Random_NumberFM, \"7007\")\n",
        "\n",
        "try:\n",
        "  try:\n",
        "    Random_NumberFM\n",
        "  except NameError:\n",
        "    Random_NumberFM = RandomGenerator()\n",
        "    display(MakeLabel('Installing in Progress', 'warning'))\n",
        "  if os.path.isfile(\"/tools/node/bin/cloudcmd\") == False:\n",
        "    get_ipython().system_raw(\"rm -rf /content/sample_data/ && npm i -g npm && npm i cloudcmd -g\")\n",
        "  if os.path.isfile(\"/usr/bin/autossh\") == False:\n",
        "    get_ipython().system_raw(\"apt update -qq -y && apt install autossh -qq -y\")\n",
        "  Start_ServerFM()\n",
        "  clear_output(wait=True)\n",
        "  display(MakeLabel(\"✔ Successfully\", \"success\"), MakeButton(\"Recheck\", Start_ServerFM), HTML(\"<h2 style=\\\"font-family:Trebuchet MS;color:#4f8bd6;\\\">File Manager</h2><h4 style=\\\"font-family:Trebuchet MS;color:#4f8bd6;\\\">\" \\\n",
        "                    \"<a style=\\\"font-family:Trebuchet MS;color:#356ebf;\\\" href=\\\"https://fm\" + Random_NumberFM + \".serveo.net/fs/content/\\\" target=\\\"_blank\\\">Website</a><br>\" \\\n",
        "                    \"<a style=\\\"font-family:Trebuchet MS;color:#356ebf;\\\" href=\\\"http://fm\" + Random_NumberFM + \".localhost.run/fs/content/\\\" target=\\\"_blank\\\">Website (Backup)</a></h3>\"))\n",
        "except:\n",
        "  clear_output(wait=True)\n",
        "  display(MakeLabel(\"✘ Unsuccessfully\", \"danger\")) "
      ],
      "execution_count": 0,
      "outputs": [
        {
          "output_type": "display_data",
          "data": {
            "application/vnd.jupyter.widget-view+json": {
              "model_id": "fd3fbe96860b4d5e820abc4254073f1a",
              "version_minor": 0,
              "version_major": 2
            },
            "text/plain": [
              "Button(button_style='success', description='✔ Successfully', disabled=True, style=ButtonStyle())"
            ]
          },
          "metadata": {
            "tags": []
          }
        },
        {
          "output_type": "display_data",
          "data": {
            "text/html": [
              "<button class=\"p-Widget jupyter-widgets jupyter-button widget-button mod-info\" id=\"button-3e8c9fd6-fa71-4d35-b88f-2e3199e00918\">Recheck</button>\n",
              "        <script>\n",
              "          document.querySelector(\"#button-3e8c9fd6-fa71-4d35-b88f-2e3199e00918\").onclick = (e) => {\n",
              "            google.colab.kernel.invokeFunction('button-3e8c9fd6-fa71-4d35-b88f-2e3199e00918', [], {})\n",
              "            e.preventDefault();\n",
              "          };\n",
              "        </script>"
            ],
            "text/plain": [
              "<__main__.MakeButton at 0x7f811de672e8>"
            ]
          },
          "metadata": {
            "tags": []
          }
        },
        {
          "output_type": "display_data",
          "data": {
            "text/html": [
              "<h2 style=\"font-family:Trebuchet MS;color:#4f8bd6;\">File Manager</h2><h4 style=\"font-family:Trebuchet MS;color:#4f8bd6;\"><a style=\"font-family:Trebuchet MS;color:#356ebf;\" href=\"https://fm552770655.serveo.net/fs/content/\" target=\"_blank\">Website</a><br><a style=\"font-family:Trebuchet MS;color:#356ebf;\" href=\"http://fm552770655.localhost.run/fs/content/\" target=\"_blank\">Website (Backup)</a></h3>"
            ],
            "text/plain": [
              "<IPython.core.display.HTML object>"
            ]
          },
          "metadata": {
            "tags": []
          }
        }
      ]
    },
    {
      "cell_type": "code",
      "metadata": {
        "id": "Jfzzx77JH3zI",
        "colab_type": "code",
        "colab": {}
      },
      "source": [
        "with open('/gdrive/My Drive/foo.txt', 'w') as f:\n",
        "  f.write('Hello Google Drive!')\n",
        "!cat '/gdrive/My Drive/foo.txt'"
      ],
      "execution_count": 0,
      "outputs": []
    },
    {
      "cell_type": "code",
      "metadata": {
        "id": "wI_1IMsoup1N",
        "colab_type": "code",
        "cellView": "form",
        "colab": {}
      },
      "source": [
        "# ============================= FORM ============================= #\n",
        "#@markdown <h3>⬅️ Check VM's Status</h3>\n",
        "Loop_Check = True #@param {type:\"boolean\"}\n",
        "Loop_Interval = 5 #@param {type:\"slider\", min:1, max:15, step:1}\n",
        "# ================================================================ #\n",
        "\n",
        "import time\n",
        "from IPython.display import clear_output\n",
        "Loop = True\n",
        "\n",
        "try:\n",
        "  while Loop == True:\n",
        "    clear_output(wait=True)\n",
        "    !top -bcn1 -w512\n",
        "    if Loop_Check == False:\n",
        "      Loop = False\n",
        "    else:\n",
        "      time.sleep(Loop_Interval)\n",
        "except:\n",
        "  clear_output(wait=True)"
      ],
      "execution_count": 0,
      "outputs": []
    }
  ]
}